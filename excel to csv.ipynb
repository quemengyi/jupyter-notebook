{
 "cells": [
  {
   "cell_type": "code",
   "execution_count": 10,
   "id": "a9dcedfc",
   "metadata": {},
   "outputs": [],
   "source": [
    "import pandas as pd\n",
    "\n",
    "f = pd.read_excel('F:\\Code\\Jupyter Notebook\\exchange\\Demo0916.xlsx')\n",
    "f.to_csv('F:\\Code\\Jupyter Notebook\\exchange\\Demo0916.csv',encoding='gbk')"
   ]
  }
 ],
 "metadata": {
  "kernelspec": {
   "display_name": "Python 3",
   "language": "python",
   "name": "python3"
  },
  "language_info": {
   "codemirror_mode": {
    "name": "ipython",
    "version": 3
   },
   "file_extension": ".py",
   "mimetype": "text/x-python",
   "name": "python",
   "nbconvert_exporter": "python",
   "pygments_lexer": "ipython3",
   "version": "3.8.8"
  }
 },
 "nbformat": 4,
 "nbformat_minor": 5
}
